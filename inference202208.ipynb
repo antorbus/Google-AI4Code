{
 "cells": [
  {
   "cell_type": "code",
   "execution_count": 5,
   "id": "ff6485dc",
   "metadata": {
    "execution": {
     "iopub.execute_input": "2022-08-11T19:42:54.019642Z",
     "iopub.status.busy": "2022-08-11T19:42:54.019250Z",
     "iopub.status.idle": "2022-08-11T19:42:54.655593Z",
     "shell.execute_reply": "2022-08-11T19:42:54.654627Z"
    },
    "papermill": {
     "duration": 0.647302,
     "end_time": "2022-08-11T19:42:54.658398",
     "exception": false,
     "start_time": "2022-08-11T19:42:54.011096",
     "status": "completed"
    },
    "tags": []
   },
   "outputs": [],
   "source": [
    "import os\n",
    "from torch.utils.data import Dataset, DataLoader\n",
    "import torch\n",
    "import torch.nn as nn\n",
    "import torch.nn.functional as F\n",
    "import torch.optim as optim\n",
    "import numpy as np\n",
    "import pandas as pd\n",
    "from pathlib import Path\n",
    "from x_transformers import Decoder, Encoder"
   ]
  },
  {
   "cell_type": "code",
   "execution_count": 6,
   "id": "b7a88297",
   "metadata": {
    "_cell_guid": "46499b25-bc04-482b-8563-d8554e71ecd2",
    "_uuid": "6af8d142-58e4-49d6-99fb-78db2a1419f5",
    "collapsed": false,
    "execution": {
     "iopub.execute_input": "2022-08-11T19:42:54.674683Z",
     "iopub.status.busy": "2022-08-11T19:42:54.673002Z",
     "iopub.status.idle": "2022-08-11T19:42:56.278828Z",
     "shell.execute_reply": "2022-08-11T19:42:56.277648Z"
    },
    "jupyter": {
     "outputs_hidden": false
    },
    "papermill": {
     "duration": 1.616027,
     "end_time": "2022-08-11T19:42:56.281576",
     "exception": false,
     "start_time": "2022-08-11T19:42:54.665549",
     "status": "completed"
    },
    "tags": []
   },
   "outputs": [],
   "source": [
    "from transformers import (\n",
    "    RobertaTokenizer,\n",
    "    RobertaModel,\n",
    "    RobertaConfig\n",
    "    \n",
    ")"
   ]
  },
  {
   "cell_type": "code",
   "execution_count": 7,
   "id": "deebae90",
   "metadata": {
    "_cell_guid": "0877671f-2571-4962-81f8-f654b352efb9",
    "_uuid": "d0e7a327-3714-42e5-b11a-8dd415b3977d",
    "collapsed": false,
    "execution": {
     "iopub.execute_input": "2022-08-11T19:42:56.311089Z",
     "iopub.status.busy": "2022-08-11T19:42:56.310595Z",
     "iopub.status.idle": "2022-08-11T19:42:56.386562Z",
     "shell.execute_reply": "2022-08-11T19:42:56.385563Z"
    },
    "jupyter": {
     "outputs_hidden": false
    },
    "papermill": {
     "duration": 0.097002,
     "end_time": "2022-08-11T19:42:56.388710",
     "exception": false,
     "start_time": "2022-08-11T19:42:56.291708",
     "status": "completed"
    },
    "tags": []
   },
   "outputs": [
    {
     "data": {
      "text/plain": [
       "device(type='cuda')"
      ]
     },
     "execution_count": 7,
     "metadata": {},
     "output_type": "execute_result"
    }
   ],
   "source": [
    "device = torch.device(\"cuda\") if torch.cuda.is_available() else torch.device(\"cpu\")\n",
    "device"
   ]
  },
  {
   "cell_type": "code",
   "execution_count": 8,
   "id": "e9c8ba1f",
   "metadata": {
    "_cell_guid": "efe5ba53-1c92-41ac-b84b-391485983754",
    "_uuid": "2a55e4f4-f200-459f-8b6e-c3a787da3784",
    "collapsed": false,
    "execution": {
     "iopub.execute_input": "2022-08-11T19:42:56.402764Z",
     "iopub.status.busy": "2022-08-11T19:42:56.402461Z",
     "iopub.status.idle": "2022-08-11T19:42:56.407912Z",
     "shell.execute_reply": "2022-08-11T19:42:56.407068Z"
    },
    "jupyter": {
     "outputs_hidden": false
    },
    "papermill": {
     "duration": 0.014936,
     "end_time": "2022-08-11T19:42:56.409993",
     "exception": false,
     "start_time": "2022-08-11T19:42:56.395057",
     "status": "completed"
    },
    "tags": []
   },
   "outputs": [],
   "source": [
    "\n",
    "MAX_TOKENS = 256\n",
    "pad_token_id = 1 "
   ]
  },
  {
   "cell_type": "code",
   "execution_count": 9,
   "id": "be346e38",
   "metadata": {
    "_cell_guid": "ac86e48e-2ef9-4a48-a1a2-2a181bf03721",
    "_uuid": "31326d45-35b2-4a1c-9340-8ee7d295af69",
    "collapsed": false,
    "execution": {
     "iopub.execute_input": "2022-08-11T19:42:56.424994Z",
     "iopub.status.busy": "2022-08-11T19:42:56.424371Z",
     "iopub.status.idle": "2022-08-11T19:42:56.435634Z",
     "shell.execute_reply": "2022-08-11T19:42:56.434879Z"
    },
    "jupyter": {
     "outputs_hidden": false
    },
    "papermill": {
     "duration": 0.020785,
     "end_time": "2022-08-11T19:42:56.437666",
     "exception": false,
     "start_time": "2022-08-11T19:42:56.416881",
     "status": "completed"
    },
    "tags": []
   },
   "outputs": [],
   "source": [
    "test_path  = Path('../input/AI4Code/test')\n",
    "test_nb = sorted(os.listdir(test_path))"
   ]
  },
  {
   "cell_type": "code",
   "execution_count": 10,
   "id": "1827dac4",
   "metadata": {
    "_cell_guid": "31aa569e-b27d-4d50-92b1-b3271f3f065e",
    "_uuid": "092b3e78-06c8-4d82-8040-d1075ace6120",
    "collapsed": false,
    "execution": {
     "iopub.execute_input": "2022-08-11T19:42:56.450967Z",
     "iopub.status.busy": "2022-08-11T19:42:56.450672Z",
     "iopub.status.idle": "2022-08-11T19:42:56.455508Z",
     "shell.execute_reply": "2022-08-11T19:42:56.454619Z"
    },
    "jupyter": {
     "outputs_hidden": false
    },
    "papermill": {
     "duration": 0.013679,
     "end_time": "2022-08-11T19:42:56.457507",
     "exception": false,
     "start_time": "2022-08-11T19:42:56.443828",
     "status": "completed"
    },
    "tags": []
   },
   "outputs": [],
   "source": [
    "def read_notebook_inference(nb):\n",
    "    return (\n",
    "        pd.read_json(\n",
    "            test_path / nb,\n",
    "            dtype={'cell_type': 'category', 'source': 'str'})\n",
    "        .assign(id=nb[:-5])\n",
    "        .rename_axis('cell_id')\n",
    "    )"
   ]
  },
  {
   "cell_type": "code",
   "execution_count": 11,
   "id": "7ae46119",
   "metadata": {
    "_cell_guid": "a30c127e-d884-4ce5-ba50-9066539ad48c",
    "_uuid": "865ff37f-c4f5-4c67-8e4f-6186860ed020",
    "collapsed": false,
    "execution": {
     "iopub.execute_input": "2022-08-11T19:42:56.471278Z",
     "iopub.status.busy": "2022-08-11T19:42:56.470967Z",
     "iopub.status.idle": "2022-08-11T19:42:56.529960Z",
     "shell.execute_reply": "2022-08-11T19:42:56.529055Z"
    },
    "jupyter": {
     "outputs_hidden": false
    },
    "papermill": {
     "duration": 0.068636,
     "end_time": "2022-08-11T19:42:56.532257",
     "exception": false,
     "start_time": "2022-08-11T19:42:56.463621",
     "status": "completed"
    },
    "tags": []
   },
   "outputs": [],
   "source": [
    "notebooks = [read_notebook_inference(nb) for nb in test_nb]\n",
    "df = pd.concat(notebooks).reset_index()\n",
    "df=df.set_index(['id','cell_id'])\n",
    "total_cells_by_notebook = df['cell_type'].groupby(by='id').count()\n",
    "code_cells_by_notebook = df[df['cell_type']=='code']['cell_type'].groupby(by='id').count()\n",
    "md_cells_by_notebook=total_cells_by_notebook-code_cells_by_notebook"
   ]
  },
  {
   "cell_type": "code",
   "execution_count": 12,
   "id": "18e898c4",
   "metadata": {
    "_cell_guid": "bf2179ed-742d-4f8f-a07f-180344c29909",
    "_uuid": "ff530fe2-e242-4a96-9b6b-1ea73895c871",
    "collapsed": false,
    "execution": {
     "iopub.execute_input": "2022-08-11T19:42:56.546176Z",
     "iopub.status.busy": "2022-08-11T19:42:56.545664Z",
     "iopub.status.idle": "2022-08-11T19:42:56.552366Z",
     "shell.execute_reply": "2022-08-11T19:42:56.551240Z"
    },
    "jupyter": {
     "outputs_hidden": false
    },
    "papermill": {
     "duration": 0.015791,
     "end_time": "2022-08-11T19:42:56.554409",
     "exception": false,
     "start_time": "2022-08-11T19:42:56.538618",
     "status": "completed"
    },
    "tags": []
   },
   "outputs": [],
   "source": [
    "ids_test = df.index.unique('id')"
   ]
  },
  {
   "cell_type": "code",
   "execution_count": 13,
   "id": "9d4f6f5c",
   "metadata": {
    "_cell_guid": "f98cd912-411c-433b-bbad-edefe02efc96",
    "_uuid": "5a223282-2b9f-47a8-ab59-605d397ad785",
    "collapsed": false,
    "execution": {
     "iopub.execute_input": "2022-08-11T19:42:56.568174Z",
     "iopub.status.busy": "2022-08-11T19:42:56.567493Z",
     "iopub.status.idle": "2022-08-11T19:42:56.573459Z",
     "shell.execute_reply": "2022-08-11T19:42:56.572617Z"
    },
    "jupyter": {
     "outputs_hidden": false
    },
    "papermill": {
     "duration": 0.01516,
     "end_time": "2022-08-11T19:42:56.575501",
     "exception": false,
     "start_time": "2022-08-11T19:42:56.560341",
     "status": "completed"
    },
    "tags": []
   },
   "outputs": [],
   "source": [
    "def get_ids(notebook_id):\n",
    "    data = df.loc[notebook_id]       \n",
    "    return data.index[data['cell_type']=='code'].values,data.index[data['cell_type']=='markdown'].values\n",
    "\n"
   ]
  },
  {
   "cell_type": "code",
   "execution_count": 14,
   "id": "5b5a4a19",
   "metadata": {
    "_cell_guid": "9c03a969-0d2e-4b37-aba7-d75fd785d4b7",
    "_uuid": "b754b895-ca2e-4454-ae25-67eee5ee95ed",
    "collapsed": false,
    "execution": {
     "iopub.execute_input": "2022-08-11T19:42:56.589053Z",
     "iopub.status.busy": "2022-08-11T19:42:56.588709Z",
     "iopub.status.idle": "2022-08-11T19:42:56.599845Z",
     "shell.execute_reply": "2022-08-11T19:42:56.598896Z"
    },
    "jupyter": {
     "outputs_hidden": false
    },
    "papermill": {
     "duration": 0.020328,
     "end_time": "2022-08-11T19:42:56.601982",
     "exception": false,
     "start_time": "2022-08-11T19:42:56.581654",
     "status": "completed"
    },
    "tags": []
   },
   "outputs": [],
   "source": [
    "class TokensDataset(Dataset):\n",
    "    def __init__(self, ids__):\n",
    "        self.tokenizer = RobertaTokenizer.from_pretrained('../input/codebert-b')\n",
    "        self.ids__ = ids__\n",
    "    def __len__(self):\n",
    "        return len(self.ids__)\n",
    "            \n",
    "    def __getitem__(self, idx):\n",
    "        \n",
    "        notebook_id = self.ids__[idx]\n",
    "        \n",
    "        \n",
    "        data = df.loc[notebook_id] \n",
    "        cells_ids = data.index[data['cell_type']=='code'].values\n",
    "        code_cells = data.source[cells_ids].tolist()\n",
    "        md_ids = data.index[data['cell_type']=='markdown'].values\n",
    "        mark_cells = data.source[md_ids].tolist()\n",
    "\n",
    "        _code_tokens = self.tokenizer(code_cells, padding='max_length',truncation=True, \n",
    "                                                       max_length = MAX_TOKENS, return_tensors='pt')['input_ids']\n",
    "        _md_tokens = self.tokenizer(mark_cells, padding='max_length',truncation=True, \n",
    "                                                       max_length = MAX_TOKENS, return_tensors='pt')['input_ids']\n",
    "        n_c = len(_code_tokens)\n",
    "        \n",
    "        n_md = len(_md_tokens)\n",
    "        MAX_CELLS = max(n_c,n_md)\n",
    "        code_tokens = torch.full((MAX_CELLS,MAX_TOKENS),pad_token_id,dtype=torch.int64)\n",
    "        md_tokens   = torch.full((MAX_CELLS,MAX_TOKENS),pad_token_id,dtype=torch.int64)\n",
    "        \n",
    "        code_pos = torch.arange(n_c) \n",
    "        _code_tokens = _code_tokens[code_pos]\n",
    "        \n",
    "        code_pos_pct = torch.full((MAX_CELLS,),-1.)\n",
    "        code_pos_pct[:n_c] = (code_pos.float()/(n_c-1)).nan_to_num(posinf=0) \n",
    "        \n",
    "\n",
    "        md_pos = torch.arange(n_md) \n",
    "        _md_tokens = _md_tokens[md_pos]\n",
    "        \n",
    "        code_ids, md_ids = get_ids(notebook_id)\n",
    "        code_ids = code_ids[code_pos.tolist()]\n",
    "        md_ids   = md_ids[md_pos.tolist()]\n",
    "        \n",
    "        code_tokens[:n_c,:_code_tokens.shape[1]] = _code_tokens\n",
    "        md_tokens  [:n_md,:_md_tokens.shape[1]]     = _md_tokens\n",
    "            \n",
    "        return code_pos_pct, code_tokens, md_tokens, notebook_id\n",
    "    \n",
    "        \n",
    "            "
   ]
  },
  {
   "cell_type": "code",
   "execution_count": 15,
   "id": "0da899c1",
   "metadata": {
    "_cell_guid": "afb02694-6cd0-49de-a98d-480393f633ed",
    "_uuid": "ee53bb94-e362-4ba5-b59d-0624611d8f3d",
    "collapsed": false,
    "execution": {
     "iopub.execute_input": "2022-08-11T19:42:56.615516Z",
     "iopub.status.busy": "2022-08-11T19:42:56.615256Z",
     "iopub.status.idle": "2022-08-11T19:42:56.738235Z",
     "shell.execute_reply": "2022-08-11T19:42:56.737212Z"
    },
    "jupyter": {
     "outputs_hidden": false
    },
    "papermill": {
     "duration": 0.132609,
     "end_time": "2022-08-11T19:42:56.740627",
     "exception": false,
     "start_time": "2022-08-11T19:42:56.608018",
     "status": "completed"
    },
    "tags": []
   },
   "outputs": [],
   "source": [
    "test_ds = TokensDataset(ids_test)\n",
    "test_dl = DataLoader(test_ds, 1, shuffle=False, num_workers=0)"
   ]
  },
  {
   "cell_type": "code",
   "execution_count": 16,
   "id": "cba08f94",
   "metadata": {
    "execution": {
     "iopub.execute_input": "2022-08-11T19:42:56.756561Z",
     "iopub.status.busy": "2022-08-11T19:42:56.754940Z",
     "iopub.status.idle": "2022-08-11T19:42:56.791645Z",
     "shell.execute_reply": "2022-08-11T19:42:56.790562Z"
    },
    "papermill": {
     "duration": 0.046559,
     "end_time": "2022-08-11T19:42:56.793800",
     "exception": false,
     "start_time": "2022-08-11T19:42:56.747241",
     "status": "completed"
    },
    "tags": []
   },
   "outputs": [
    {
     "data": {
      "text/plain": [
       "(tensor([0.0000, 0.1667, 0.3333, 0.5000, 0.6667, 0.8333, 1.0000]),\n",
       " tensor([[    0, 41975,   295,  ...,     1,     1,     1],\n",
       "         [    0, 36807,  5457,  ...,     1,     1,     1],\n",
       "         [    0,   282, 26229,  ...,     1,     1,     1],\n",
       "         ...,\n",
       "         [    0, 10431,  3037,  ...,  1297,    22,     2],\n",
       "         [    0, 10431,  2741,  ...,     1,     1,     1],\n",
       "         [    0, 10431,   155,  ...,     1,     1,     1]]),\n",
       " tensor([[    0, 10431,  2741,  ...,     1,     1,     1],\n",
       "         [    0, 48342, 25980,  ...,     1,     1,     1],\n",
       "         [    0, 48342, 39154,  ...,     1,     1,     1],\n",
       "         ...,\n",
       "         [    0, 10431, 20891,  ...,     1,     1,     1],\n",
       "         [    0, 10431,  4913,  ...,     1,     1,     1],\n",
       "         [    1,     1,     1,  ...,     1,     1,     1]]),\n",
       " '0009d135ece78d')"
      ]
     },
     "execution_count": 16,
     "metadata": {},
     "output_type": "execute_result"
    }
   ],
   "source": [
    "test_ds[0]"
   ]
  },
  {
   "cell_type": "code",
   "execution_count": 17,
   "id": "e4c04e7c",
   "metadata": {
    "execution": {
     "iopub.execute_input": "2022-08-11T19:42:56.807618Z",
     "iopub.status.busy": "2022-08-11T19:42:56.807290Z",
     "iopub.status.idle": "2022-08-11T19:43:02.641858Z",
     "shell.execute_reply": "2022-08-11T19:43:02.640707Z"
    },
    "papermill": {
     "duration": 5.845149,
     "end_time": "2022-08-11T19:43:02.645081",
     "exception": false,
     "start_time": "2022-08-11T19:42:56.799932",
     "status": "completed"
    },
    "tags": []
   },
   "outputs": [],
   "source": [
    "code_bert=RobertaModel.from_pretrained('../input/codebert-b')"
   ]
  },
  {
   "cell_type": "code",
   "execution_count": 18,
   "id": "425123e7",
   "metadata": {
    "execution": {
     "iopub.execute_input": "2022-08-11T19:43:02.660331Z",
     "iopub.status.busy": "2022-08-11T19:43:02.659608Z",
     "iopub.status.idle": "2022-08-11T19:43:02.668797Z",
     "shell.execute_reply": "2022-08-11T19:43:02.667939Z"
    },
    "papermill": {
     "duration": 0.018467,
     "end_time": "2022-08-11T19:43:02.670666",
     "exception": false,
     "start_time": "2022-08-11T19:43:02.652199",
     "status": "completed"
    },
    "tags": []
   },
   "outputs": [],
   "source": [
    "import math\n",
    "def positionalencoding1d(positions_pct, d_model):\n",
    "    \"\"\"\n",
    "    :param d_model: dimension of the model\n",
    "    :param length: length of positions\n",
    "    :return: length*d_model position matrix\n",
    "    \"\"\"\n",
    "    device,dtype = positions_pct.device, positions_pct.dtype\n",
    "    if d_model % 2 != 0:\n",
    "        raise ValueError(\"Cannot use sin/cos positional encoding with \"\n",
    "                         \"odd dim (got dim={:d})\".format(d_model))\n",
    "    pe = torch.empty((*positions_pct.shape[:2], d_model),device=device,dtype=dtype)\n",
    "    position = (positions_pct * 50.).flatten(0).unsqueeze(1)\n",
    "    div_term = torch.exp((torch.arange(0, d_model, 2, device=device,dtype=dtype) *\n",
    "                         -(math.log(10000.0) / d_model)))\n",
    "    pe[..., 0::2] = torch.sin(position * div_term).view(*positions_pct.shape[:2],-1)\n",
    "    pe[..., 1::2] = torch.cos(position * div_term).view(*positions_pct.shape[:2],-1)\n",
    "\n",
    "    return pe"
   ]
  },
  {
   "cell_type": "code",
   "execution_count": 19,
   "id": "12b751cc",
   "metadata": {
    "_cell_guid": "fa4af2d9-8ac1-4cc8-81c9-68799d8b7e0f",
    "_uuid": "17267911-b2fc-4639-94a8-6653db15c327",
    "collapsed": false,
    "execution": {
     "iopub.execute_input": "2022-08-11T19:43:02.685191Z",
     "iopub.status.busy": "2022-08-11T19:43:02.684921Z",
     "iopub.status.idle": "2022-08-11T19:43:02.718753Z",
     "shell.execute_reply": "2022-08-11T19:43:02.717782Z"
    },
    "jupyter": {
     "outputs_hidden": false
    },
    "papermill": {
     "duration": 0.043126,
     "end_time": "2022-08-11T19:43:02.720741",
     "exception": false,
     "start_time": "2022-08-11T19:43:02.677615",
     "status": "completed"
    },
    "tags": []
   },
   "outputs": [],
   "source": [
    "class Orderer(nn.Module):\n",
    "    def __init__(self):\n",
    "        super().__init__()\n",
    "                \n",
    "        encoder_dim = codebert_dim = 768 \n",
    "        \n",
    "        self.codebert_proj = nn.Linear(codebert_dim,encoder_dim,bias=False) \\\n",
    "            if codebert_dim!=encoder_dim else nn.Identity()\n",
    "        \n",
    "        self.encoder = Encoder(\n",
    "            dim = encoder_dim,\n",
    "            depth = 6,\n",
    "            heads = 8,\n",
    "            attn_num_mem_kv = 16,\n",
    "            rotary_pos_emb = False,\n",
    "            #ff_glu = True,\n",
    "        )\n",
    "        \n",
    "        self.decoder = Encoder(\n",
    "            dim = encoder_dim,\n",
    "            depth = 8,\n",
    "            heads = 8,\n",
    "            attn_num_mem_kv = 16,\n",
    "            rotary_pos_emb = False,\n",
    "            cross_attend = True,\n",
    "            #ff_glu = True,\n",
    "        )\n",
    "\n",
    "        #self.code_regressor = nn.Sequential(nn.Linear(encoder_dim, encoder_dim, bias = True), nn.GLU(),\n",
    "        #                                    nn.Linear(encoder_dim//2, 2, bias = True), nn.GLU())\n",
    "        self.md_regressor   = nn.Sequential(nn.Linear(encoder_dim, 2, bias = True), nn.GLU())\n",
    "        \n",
    "        self.code_bert = code_bert\n",
    "        \n",
    "    def forward(self, code_pos_pct, code_tokens, md_tokens):\n",
    "        bs = code_tokens.shape[0]\n",
    "        device = code_tokens.device\n",
    "        \n",
    "        code_mask = code_tokens != pad_token_id\n",
    "        x_code = self.code_bert(code_tokens.flatten(0,1),\n",
    "                                attention_mask=code_mask.flatten(0,1).to(device))\\\n",
    "                .last_hidden_state.view(*code_tokens.shape[:3],-1)[:,:,0,:]\n",
    "        x_code = self.codebert_proj(x_code)\n",
    "        \n",
    "        md_mask = md_tokens != pad_token_id\n",
    "        x_md = self.code_bert(md_tokens.flatten(0,1),\n",
    "                                attention_mask=md_mask.flatten(0,1).to(device))\\\n",
    "                .last_hidden_state.view(*md_tokens.shape[:3],-1)[:,:,0,:]\n",
    "        x_md = self.codebert_proj(x_md)\n",
    "        \n",
    "        m_code = ~(code_tokens == pad_token_id).all(dim=-1)\n",
    "        m_md   = ~(md_tokens == pad_token_id).all(dim=-1)\n",
    "                \n",
    "        nc = m_code.sum(dim=1)\n",
    "        nm = m_md.sum(dim=1)\n",
    "        \n",
    "        #print(code_pos_pct)\n",
    "                \n",
    "        x_code += positionalencoding1d(code_pos_pct,x_code.shape[-1])\n",
    "        \n",
    "        x_code = self.encoder(x_code, mask = m_code)\n",
    "        x_md   = self.decoder(x_md, context = x_code, mask = m_md, context_mask = m_code)\n",
    "                \n",
    "        encoded_all = (nc+nm).view(bs,1,1) * torch.cat((\n",
    "            code_pos_pct.unsqueeze(1),\n",
    "         #   self.code_regressor(x_code).sigmoid().view(bs,1,-1),\n",
    "            -0.2 + 1.4 * self.md_regressor(x_md).sigmoid().view(bs,1,-1)\n",
    "        ),1)\n",
    "                \n",
    "        return encoded_all, torch.stack((m_code,m_md),1)"
   ]
  },
  {
   "cell_type": "code",
   "execution_count": 20,
   "id": "524dfd83",
   "metadata": {
    "_cell_guid": "1768ffcc-37e3-47eb-a310-18f2b63b717e",
    "_uuid": "4ff506d5-4e67-48ef-a127-be540b883d5e",
    "collapsed": false,
    "execution": {
     "iopub.execute_input": "2022-08-11T19:43:02.734332Z",
     "iopub.status.busy": "2022-08-11T19:43:02.734077Z",
     "iopub.status.idle": "2022-08-11T19:43:02.740472Z",
     "shell.execute_reply": "2022-08-11T19:43:02.739609Z"
    },
    "jupyter": {
     "outputs_hidden": false
    },
    "papermill": {
     "duration": 0.015857,
     "end_time": "2022-08-11T19:43:02.742739",
     "exception": false,
     "start_time": "2022-08-11T19:43:02.726882",
     "status": "completed"
    },
    "tags": []
   },
   "outputs": [],
   "source": [
    "def preds_to_ids(preds,masks,notebook_ids):\n",
    "    preds[~masks]=np.inf\n",
    "    orders=preds.detach().flatten(1).argsort().argsort().view(*preds.shape).cpu().numpy()\n",
    "    predictions = {}\n",
    "    for notebook_id,order, mask in zip(notebook_ids,orders,masks):\n",
    "        code_ids,md_ids=get_ids(notebook_id)\n",
    "        nc,nm=len(code_ids),len(md_ids)\n",
    "        code_order,md_order=order[0],order[1]\n",
    "        pred=np.full((nc+nm),None,dtype=object)\n",
    "        pred[code_order[:nc]] =  code_ids\n",
    "        pred[md_order[:nm]] =  md_ids\n",
    "        predictions[notebook_id] = ' '.join(pred.tolist())\n",
    "    return predictions"
   ]
  },
  {
   "cell_type": "code",
   "execution_count": 21,
   "id": "c32c879a",
   "metadata": {
    "execution": {
     "iopub.execute_input": "2022-08-11T19:43:02.756103Z",
     "iopub.status.busy": "2022-08-11T19:43:02.755849Z",
     "iopub.status.idle": "2022-08-11T19:43:22.977427Z",
     "shell.execute_reply": "2022-08-11T19:43:22.976325Z"
    },
    "papermill": {
     "duration": 20.231068,
     "end_time": "2022-08-11T19:43:22.979757",
     "exception": false,
     "start_time": "2022-08-11T19:43:02.748689",
     "status": "completed"
    },
    "tags": []
   },
   "outputs": [
    {
     "data": {
      "text/plain": [
       "<All keys matched successfully>"
      ]
     },
     "execution_count": 21,
     "metadata": {},
     "output_type": "execute_result"
    }
   ],
   "source": [
    "model = Orderer() \n",
    "model.load_state_dict({k[6:]:v for k,v in torch.load(ModelPath, map_location='cpu')['state_dict'].items()})"
   ]
  },
  {
   "cell_type": "code",
   "execution_count": 22,
   "id": "f01629e2",
   "metadata": {
    "_cell_guid": "a95d1706-9d65-4567-b513-15d324037410",
    "_uuid": "26f9a5cc-8ce2-4250-92d3-6809fccbaf0f",
    "collapsed": false,
    "execution": {
     "iopub.execute_input": "2022-08-11T19:43:22.996041Z",
     "iopub.status.busy": "2022-08-11T19:43:22.994166Z",
     "iopub.status.idle": "2022-08-11T19:43:27.710559Z",
     "shell.execute_reply": "2022-08-11T19:43:27.709604Z"
    },
    "jupyter": {
     "outputs_hidden": false
    },
    "papermill": {
     "duration": 4.726209,
     "end_time": "2022-08-11T19:43:27.712927",
     "exception": false,
     "start_time": "2022-08-11T19:43:22.986718",
     "status": "completed"
    },
    "tags": []
   },
   "outputs": [],
   "source": [
    "d ={}\n",
    "model = model.to(device)\n",
    "model.eval()\n",
    "#model.half()\n",
    "with torch.no_grad():\n",
    "    for code_pos_pct, code_tokens, md_tokens, notebook_id in test_dl:\n",
    "        code_pos_pct, code_tokens, md_tokens = code_pos_pct.to(device), code_tokens.to(device), md_tokens.to(device)\n",
    "        #code_pos_pct, code_tokens, md_tokens = code_pos_pct.half().to(device), code_tokens.to(device), md_tokens.to(device)\n",
    "        output,masking = model(code_pos_pct, code_tokens, md_tokens)\n",
    "        d.update(preds_to_ids(output, masking, notebook_id))"
   ]
  },
  {
   "cell_type": "code",
   "execution_count": 23,
   "id": "2c0fbf1b",
   "metadata": {
    "_cell_guid": "279f012b-f5b3-4d23-ba9c-66947b96f137",
    "_uuid": "f30b9875-16b0-4926-87ce-a2c4802d8642",
    "collapsed": false,
    "execution": {
     "iopub.execute_input": "2022-08-11T19:43:27.729098Z",
     "iopub.status.busy": "2022-08-11T19:43:27.728460Z",
     "iopub.status.idle": "2022-08-11T19:43:27.749973Z",
     "shell.execute_reply": "2022-08-11T19:43:27.748930Z"
    },
    "jupyter": {
     "outputs_hidden": false
    },
    "papermill": {
     "duration": 0.041157,
     "end_time": "2022-08-11T19:43:27.760839",
     "exception": false,
     "start_time": "2022-08-11T19:43:27.719682",
     "status": "completed"
    },
    "tags": []
   },
   "outputs": [
    {
     "data": {
      "text/html": [
       "<div>\n",
       "<style scoped>\n",
       "    .dataframe tbody tr th:only-of-type {\n",
       "        vertical-align: middle;\n",
       "    }\n",
       "\n",
       "    .dataframe tbody tr th {\n",
       "        vertical-align: top;\n",
       "    }\n",
       "\n",
       "    .dataframe thead th {\n",
       "        text-align: right;\n",
       "    }\n",
       "</style>\n",
       "<table border=\"1\" class=\"dataframe\">\n",
       "  <thead>\n",
       "    <tr style=\"text-align: right;\">\n",
       "      <th></th>\n",
       "      <th>id</th>\n",
       "      <th>cell_order</th>\n",
       "    </tr>\n",
       "  </thead>\n",
       "  <tbody>\n",
       "    <tr>\n",
       "      <th>0</th>\n",
       "      <td>0009d135ece78d</td>\n",
       "      <td>0a226b6a ddfd239c 8cb8d28a c6cd22db 1372ae9b e...</td>\n",
       "    </tr>\n",
       "    <tr>\n",
       "      <th>1</th>\n",
       "      <td>0010483c12ba9b</td>\n",
       "      <td>7f270e34 54c7cab3 fe66203e 7844d5f8 5ce8863c 4...</td>\n",
       "    </tr>\n",
       "    <tr>\n",
       "      <th>2</th>\n",
       "      <td>0010a919d60e4f</td>\n",
       "      <td>23607d04 b7578789 bbff12d4 aafc3d23 89b1fdd2 8...</td>\n",
       "    </tr>\n",
       "    <tr>\n",
       "      <th>3</th>\n",
       "      <td>0028856e09c5b7</td>\n",
       "      <td>eb293dfc 012c9d02 d22526d1 3ae7ece3</td>\n",
       "    </tr>\n",
       "  </tbody>\n",
       "</table>\n",
       "</div>"
      ],
      "text/plain": [
       "               id                                         cell_order\n",
       "0  0009d135ece78d  0a226b6a ddfd239c 8cb8d28a c6cd22db 1372ae9b e...\n",
       "1  0010483c12ba9b  7f270e34 54c7cab3 fe66203e 7844d5f8 5ce8863c 4...\n",
       "2  0010a919d60e4f  23607d04 b7578789 bbff12d4 aafc3d23 89b1fdd2 8...\n",
       "3  0028856e09c5b7                eb293dfc 012c9d02 d22526d1 3ae7ece3"
      ]
     },
     "execution_count": 23,
     "metadata": {},
     "output_type": "execute_result"
    }
   ],
   "source": [
    "final =pd.DataFrame.from_dict(d, orient='index').reset_index().rename(columns={'index':'id', 0:'cell_order'})\n",
    "final.to_csv('submission.csv', index=False)\n",
    "final"
   ]
  },
  {
   "cell_type": "code",
   "execution_count": null,
   "id": "1be005c8",
   "metadata": {
    "papermill": {
     "duration": 0.007106,
     "end_time": "2022-08-11T19:43:27.782153",
     "exception": false,
     "start_time": "2022-08-11T19:43:27.775047",
     "status": "completed"
    },
    "tags": []
   },
   "outputs": [],
   "source": []
  },
  {
   "cell_type": "code",
   "execution_count": null,
   "id": "2e820af7",
   "metadata": {
    "papermill": {
     "duration": 0.006943,
     "end_time": "2022-08-11T19:43:27.796190",
     "exception": false,
     "start_time": "2022-08-11T19:43:27.789247",
     "status": "completed"
    },
    "tags": []
   },
   "outputs": [],
   "source": []
  }
 ],
 "metadata": {
  "kernelspec": {
   "display_name": "Python 3",
   "language": "python",
   "name": "python3"
  },
  "language_info": {
   "codemirror_mode": {
    "name": "ipython",
    "version": 3
   },
   "file_extension": ".py",
   "mimetype": "text/x-python",
   "name": "python",
   "nbconvert_exporter": "python",
   "pygments_lexer": "ipython3",
   "version": "3.7.12"
  },
  "papermill": {
   "default_parameters": {},
   "duration": 108.311775,
   "end_time": "2022-08-11T19:43:28.926438",
   "environment_variables": {},
   "exception": null,
   "input_path": "__notebook__.ipynb",
   "output_path": "__notebook__.ipynb",
   "parameters": {},
   "start_time": "2022-08-11T19:41:40.614663",
   "version": "2.3.4"
  }
 },
 "nbformat": 4,
 "nbformat_minor": 5
}
